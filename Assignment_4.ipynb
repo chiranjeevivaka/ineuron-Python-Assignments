{
 "cells": [
  {
   "cell_type": "raw",
   "id": "edb4abaa",
   "metadata": {},
   "source": [
    "1. What exactly is []?\n",
    "\n",
    "Answer: [] indicated an empty list which contains no items in it. "
   ]
  },
  {
   "cell_type": "raw",
   "id": "bad9cd42",
   "metadata": {},
   "source": [
    "2. In a list of values stored in a variable called spam, how would you assign the value 'hello' as the third value? \n",
    "   (Assume [2, 4, 6, 8, 10] are in spam.)\n",
    "\n",
    "Answer:\n",
    "    \n",
    "spam[2] = 'hello'"
   ]
  },
  {
   "cell_type": "raw",
   "id": "f82279cb",
   "metadata": {},
   "source": [
    "3. spam = ['a', 'b', 'c', 'd']. What is the value of spam[int(int('3' * 2) / 11)]?\n",
    "\n",
    "Answer: the above one will return 'd' as a result. please see the below result:"
   ]
  },
  {
   "cell_type": "code",
   "execution_count": 1,
   "id": "0b72e18a",
   "metadata": {},
   "outputs": [
    {
     "data": {
      "text/plain": [
       "'d'"
      ]
     },
     "execution_count": 1,
     "metadata": {},
     "output_type": "execute_result"
    }
   ],
   "source": [
    "spam = ['a', 'b', 'c', 'd']\n",
    "spam[int(int('3' * 2) / 11)]\n"
   ]
  },
  {
   "cell_type": "raw",
   "id": "4fff8853",
   "metadata": {},
   "source": [
    "4. spam = ['a', 'b', 'c', 'd']. What is the value of spam[-1]?\n",
    "\n",
    "Answer:\n",
    "\n",
    "spam[-1] = 'd'\n"
   ]
  },
  {
   "cell_type": "raw",
   "id": "b3d55975",
   "metadata": {},
   "source": [
    "5. What is the value of spam[:2]?\n",
    "\n",
    "Answer:\n",
    "\n",
    "spam[:2] = ['a','b']"
   ]
  },
  {
   "cell_type": "raw",
   "id": "2366b3d9",
   "metadata": {},
   "source": [
    "6. bacon = [3.14, 'cat', 11, 'cat', True]. What is the value of bacon.index('cat')?\n",
    "\n",
    "Answer:\n",
    "    \n",
    "bacon.index('cat') = 1"
   ]
  },
  {
   "cell_type": "raw",
   "id": "25aa7f2a",
   "metadata": {},
   "source": [
    "7. bacon = [3.14, 'cat', 11, 'cat', True]. How does bacon.append(99) change the look of the list value in bacon?\n",
    "\n",
    "Answer:\n",
    "\n",
    "it will append 99 as the last element in the list, this is how it looks: [3.14, 'cat', 11, 'cat', True, 99]"
   ]
  },
  {
   "cell_type": "raw",
   "id": "29249d30",
   "metadata": {},
   "source": [
    "8. bacon = [3.14, 'cat', 11, 'cat', True]. How does bacon.remove('cat') change the look of the list in bacon?\n",
    "\n",
    "Answer:\n",
    "bacon.remove('cat') will remove the first occurance of the element 'cat', this is how it looks :\n",
    "[3.14, 11, 'cat', True]"
   ]
  },
  {
   "cell_type": "raw",
   "id": "6fecb538",
   "metadata": {},
   "source": [
    "9. What are the list concatenation and list replication operators?\n",
    "\n",
    "Answer:\n",
    "    \n",
    "For concatenation we use + where as for replication we use *."
   ]
  },
  {
   "cell_type": "raw",
   "id": "6379bae5",
   "metadata": {},
   "source": [
    "10. What is difference between the list methods append() and insert()?\n",
    "\n",
    "Answer:\n",
    "    \n",
    "append() will add the elements at the end of the list, insert() will add the elements where ever we want."
   ]
  },
  {
   "cell_type": "raw",
   "id": "b72affd4",
   "metadata": {},
   "source": [
    "11. What are the two methods for removing items from a list?\n",
    "\n",
    "Answer:\n",
    "\n",
    "del and remove() are the two methods to remove items from a list."
   ]
  },
  {
   "cell_type": "raw",
   "id": "43921114",
   "metadata": {},
   "source": [
    "12. Describe how list values and string values are identical.\n",
    "\n",
    "Answer:\n",
    "\n",
    "Strings and lists both have the indexes and can be sliced in simiar way. few of the operators are also common like : in, not in. "
   ]
  },
  {
   "cell_type": "raw",
   "id": "04e8163a",
   "metadata": {},
   "source": [
    "13. What's the difference between tuples and lists?\n",
    "\n",
    "Answer:\n",
    "    \n",
    "1. Lists are mutable(add, modify, remove can be done) where as Tuples are immutable (add, modify, remove can't be done once declared).\n",
    "2. elements in list are inclosed in [] where as for list we use ()."
   ]
  },
  {
   "cell_type": "raw",
   "id": "b7e826db",
   "metadata": {},
   "source": [
    "14. How do you type a tuple value that only contains the integer 42?\n",
    "\n",
    "Answer:\n",
    "\n",
    "(42,)"
   ]
  },
  {
   "cell_type": "raw",
   "id": "66df675e",
   "metadata": {},
   "source": [
    "15. How do you get a list value's tuple form? How do you get a tuple value's list form?\n",
    "\n",
    "Answer: we can use tuple() and list() functions to convert them. See the below example:"
   ]
  },
  {
   "cell_type": "code",
   "execution_count": 17,
   "id": "58f2df50",
   "metadata": {},
   "outputs": [
    {
     "name": "stdout",
     "output_type": "stream",
     "text": [
      "(1, 2, 3, 4)\n",
      "[1, 2, 3, 4]\n"
     ]
    }
   ],
   "source": [
    "a = [1,2,3,4]\n",
    "b = tuple(a)\n",
    "print(b)\n",
    "c = list(b)\n",
    "print(c)"
   ]
  },
  {
   "cell_type": "raw",
   "id": "73e6a0c3",
   "metadata": {},
   "source": [
    "16. Variables that \"contain\" list values are not necessarily lists themselves. Instead, what do they contain?\n",
    "\n",
    "Answer:\n",
    "\n",
    "They can contain the references for the list values."
   ]
  },
  {
   "cell_type": "raw",
   "id": "4a75b8b0",
   "metadata": {},
   "source": [
    "17. How do you distinguish between copy.copy() and copy.deepcopy()?\n",
    "\n",
    "Answer:\n",
    "    \n",
    "copy.copy() creates a shallow copy means if you change anything in one other one will get effected.\n",
    "copy.deepcopy() creates a deep copy means if some thing gets changed in one other one will not be  effected."
   ]
  },
  {
   "cell_type": "code",
   "execution_count": null,
   "id": "2cee85c7",
   "metadata": {},
   "outputs": [],
   "source": []
  },
  {
   "cell_type": "code",
   "execution_count": null,
   "id": "ada20361",
   "metadata": {},
   "outputs": [],
   "source": []
  }
 ],
 "metadata": {
  "kernelspec": {
   "display_name": "Python 3 (ipykernel)",
   "language": "python",
   "name": "python3"
  },
  "language_info": {
   "codemirror_mode": {
    "name": "ipython",
    "version": 3
   },
   "file_extension": ".py",
   "mimetype": "text/x-python",
   "name": "python",
   "nbconvert_exporter": "python",
   "pygments_lexer": "ipython3",
   "version": "3.9.7"
  }
 },
 "nbformat": 4,
 "nbformat_minor": 5
}
