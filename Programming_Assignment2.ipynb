{
 "cells": [
  {
   "cell_type": "raw",
   "id": "3c38c030",
   "metadata": {},
   "source": [
    "1.\tWrite a Python program to convert kilometers to miles?"
   ]
  },
  {
   "cell_type": "code",
   "execution_count": 9,
   "id": "4901007b",
   "metadata": {},
   "outputs": [
    {
     "data": {
      "text/plain": [
       "2.484"
      ]
     },
     "execution_count": 9,
     "metadata": {},
     "output_type": "execute_result"
    }
   ],
   "source": [
    "\"\"\"In general 1km = 0.621 miles\"\"\"\n",
    "\n",
    "def kmtomile(km):\n",
    "    return km*0.621\n",
    "kmtomile(4)"
   ]
  },
  {
   "cell_type": "raw",
   "id": "6e56340a",
   "metadata": {},
   "source": [
    "2.\tWrite a Python program to convert Celsius to Fahrenheit?"
   ]
  },
  {
   "cell_type": "code",
   "execution_count": 5,
   "id": "133b8a86",
   "metadata": {},
   "outputs": [
    {
     "data": {
      "text/plain": [
       "60.8"
      ]
     },
     "execution_count": 5,
     "metadata": {},
     "output_type": "execute_result"
    }
   ],
   "source": [
    "def ctof(temp):\n",
    "    return temp * 1.8 + 32\n",
    "\n",
    "ctof(16)"
   ]
  },
  {
   "cell_type": "raw",
   "id": "915e217a",
   "metadata": {},
   "source": [
    "3.\tWrite a Python program to display calendar?"
   ]
  },
  {
   "cell_type": "code",
   "execution_count": 24,
   "id": "04f45615",
   "metadata": {},
   "outputs": [
    {
     "name": "stdout",
     "output_type": "stream",
     "text": [
      "    January 2022\n",
      "Mo Tu We Th Fr Sa Su\n",
      "                1  2\n",
      " 3  4  5  6  7  8  9\n",
      "10 11 12 13 14 15 16\n",
      "17 18 19 20 21 22 23\n",
      "24 25 26 27 28 29 30\n",
      "31\n",
      "\n"
     ]
    }
   ],
   "source": [
    "import calendar\n",
    "#print(calendar.calendar(2022)) \" This one prints the complete calendar for the year we passed as input\"\n",
    "print(calendar.month(2022,1))"
   ]
  },
  {
   "cell_type": "raw",
   "id": "649ff569",
   "metadata": {},
   "source": [
    "4.\tWrite a Python program to solve quadratic equation?"
   ]
  },
  {
   "cell_type": "code",
   "execution_count": 2,
   "id": "61149c15",
   "metadata": {},
   "outputs": [
    {
     "name": "stdout",
     "output_type": "stream",
     "text": [
      "printing the roots\n",
      "-0.5857864376269049\n",
      "-3.414213562373095\n",
      "None\n"
     ]
    }
   ],
   "source": [
    "#Standard Quadratic equation looks like ax*2 + bx + c where a,b,c are real numbers and  a!= 0\n",
    "\n",
    "import math\n",
    "def quadequation(a,b,c):\n",
    "    if a == 0:\n",
    "        print(\"Inorrect values for Quadratic equation\")\n",
    "        return\n",
    "    else:\n",
    "        d = b*b - 4*a*c\n",
    "        sq = math.sqrt(abs(d))\n",
    "        \n",
    "        if d > 0:\n",
    "            print(\"printing the roots\")\n",
    "            print((-b + sq)/(2 * a))\n",
    "            print((-b - sq)/(2 * a))\n",
    "        elif d == 0:\n",
    "            print(\"printing the roots\")\n",
    "            print(-b / (2 * a))\n",
    "        else:\n",
    "            print(\"printing the roots\")\n",
    "            print(- b / (2 * a), \" + i\", sq)\n",
    "            print(- b / (2 * a), \" - i\", sq)\n",
    "#print(quadequation(2,3,4))\n",
    "print(quadequation(1,4,2))\n"
   ]
  },
  {
   "cell_type": "raw",
   "id": "a062a65b",
   "metadata": {},
   "source": [
    "5.\tWrite a Python program to swap two variables without temp variable?"
   ]
  },
  {
   "cell_type": "code",
   "execution_count": 9,
   "id": "c8523b42",
   "metadata": {},
   "outputs": [
    {
     "name": "stdout",
     "output_type": "stream",
     "text": [
      "After wap values are (3, 2)\n"
     ]
    }
   ],
   "source": [
    "def swap(a,b):\n",
    "    a,b = b,a\n",
    "    return a,b\n",
    "\n",
    "print(\"After wap values are\", swap(2,3))\n"
   ]
  },
  {
   "cell_type": "code",
   "execution_count": null,
   "id": "5b476933",
   "metadata": {},
   "outputs": [],
   "source": []
  }
 ],
 "metadata": {
  "kernelspec": {
   "display_name": "Python 3 (ipykernel)",
   "language": "python",
   "name": "python3"
  },
  "language_info": {
   "codemirror_mode": {
    "name": "ipython",
    "version": 3
   },
   "file_extension": ".py",
   "mimetype": "text/x-python",
   "name": "python",
   "nbconvert_exporter": "python",
   "pygments_lexer": "ipython3",
   "version": "3.9.7"
  }
 },
 "nbformat": 4,
 "nbformat_minor": 5
}
