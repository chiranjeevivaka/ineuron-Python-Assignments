{
 "cells": [
  {
   "cell_type": "raw",
   "id": "6c76553d",
   "metadata": {},
   "source": [
    "1.Write a Python program to print \"Hello Python\"?"
   ]
  },
  {
   "cell_type": "code",
   "execution_count": 15,
   "id": "9a2c8ecc",
   "metadata": {},
   "outputs": [
    {
     "name": "stdout",
     "output_type": "stream",
     "text": [
      "Hello Python\n"
     ]
    }
   ],
   "source": [
    "def test():\n",
    "    print(\"Hello Python\")\n",
    "\n",
    "test()"
   ]
  },
  {
   "cell_type": "raw",
   "id": "63752941",
   "metadata": {},
   "source": [
    "2.\tWrite a Python program to do arithmetical operations addition and division.?"
   ]
  },
  {
   "cell_type": "code",
   "execution_count": 3,
   "id": "e550752e",
   "metadata": {},
   "outputs": [
    {
     "name": "stdout",
     "output_type": "stream",
     "text": [
      "11\n",
      "0.8333333333333334\n"
     ]
    }
   ],
   "source": [
    "def addition(x,y):\n",
    "    return x + y\n",
    "def division(x,y):\n",
    "    return x/y\n",
    "\n",
    "print(addition(5,6))\n",
    "print(division(5,6))"
   ]
  },
  {
   "cell_type": "raw",
   "id": "02ef7c3a",
   "metadata": {},
   "source": [
    "3.\tWrite a Python program to find the area of a triangle?"
   ]
  },
  {
   "cell_type": "code",
   "execution_count": 5,
   "id": "f125bccc",
   "metadata": {},
   "outputs": [
    {
     "name": "stdout",
     "output_type": "stream",
     "text": [
      "Area of Triangle = 10.0\n",
      "Area of Triangle = 10.5\n"
     ]
    }
   ],
   "source": [
    "\"\"\"Area of a Triangle = 1/2 * base * height\"\"\"\n",
    "def areaofTriangele(b,h):\n",
    "    return 1/2 * b * h\n",
    "\n",
    "print(\"Area of Triangle = \" + str(areaofTriangele(4,5)))\n",
    "print(\"Area of Triangle = \" + str(areaofTriangele(3,7)))\n"
   ]
  },
  {
   "cell_type": "raw",
   "id": "2cabc765",
   "metadata": {},
   "source": [
    "4.\tWrite a Python program to swap two variables?"
   ]
  },
  {
   "cell_type": "code",
   "execution_count": 9,
   "id": "d96ce332",
   "metadata": {},
   "outputs": [
    {
     "name": "stdout",
     "output_type": "stream",
     "text": [
      "Before Swapping\n",
      "3\n",
      "4\n",
      "After swapping\n",
      "4\n",
      "3\n"
     ]
    }
   ],
   "source": [
    "a,b = 3, 4\n",
    "print(\"Before Swapping\")\n",
    "print(a)\n",
    "print(b)\n",
    "a,b = b,a\n",
    "print(\"After swapping\")\n",
    "print(a)\n",
    "print(b)"
   ]
  },
  {
   "cell_type": "raw",
   "id": "633e1bca",
   "metadata": {},
   "source": [
    "5.\tWrite a Python program to generate a random number?"
   ]
  },
  {
   "cell_type": "code",
   "execution_count": 11,
   "id": "6aac8a35",
   "metadata": {},
   "outputs": [
    {
     "name": "stdout",
     "output_type": "stream",
     "text": [
      "0.8512798313305721\n"
     ]
    }
   ],
   "source": [
    "import random\n",
    "print(random.random())"
   ]
  },
  {
   "cell_type": "code",
   "execution_count": null,
   "id": "ad122cf8",
   "metadata": {},
   "outputs": [],
   "source": []
  }
 ],
 "metadata": {
  "kernelspec": {
   "display_name": "Python 3 (ipykernel)",
   "language": "python",
   "name": "python3"
  },
  "language_info": {
   "codemirror_mode": {
    "name": "ipython",
    "version": 3
   },
   "file_extension": ".py",
   "mimetype": "text/x-python",
   "name": "python",
   "nbconvert_exporter": "python",
   "pygments_lexer": "ipython3",
   "version": "3.9.7"
  }
 },
 "nbformat": 4,
 "nbformat_minor": 5
}
