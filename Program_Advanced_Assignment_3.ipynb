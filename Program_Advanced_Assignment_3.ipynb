{
 "cells": [
  {
   "cell_type": "raw",
   "id": "1eae5350",
   "metadata": {},
   "source": [
    "1. Create a function to perform basic arithmetic operations that includes addition, subtraction, multiplication and division on a string number (e.g. \"12 + 24\" or \"23 - 21\" or \"12 // 12\" or \"12 * 21\").\n",
    "\n",
    "Here, we have 1 followed by a space, operator followed by another space and 2. For the challenge, we are going to have only two numbers between 1 valid operator. The return value should be a number.\n",
    "\n",
    "eval() is not allowed. In case of division, whenever the second number equals \"0\" return -1.\n",
    "\n",
    "For example:\n",
    "\n",
    "\"15 // 0\"  ➞ -1\n",
    "\n",
    "Examples\n",
    "\n",
    "arithmetic_operation(\"12 + 12\") ➞ 24 // 12 + 12 = 24\n",
    "\n",
    "arithmetic_operation(\"12 - 12\") ➞ 24 // 12 - 12 = 0\n",
    "\n",
    "arithmetic_operation(\"12 * 12\") ➞ 144 // 12 * 12 = 144\n",
    "\n",
    "arithmetic_operation(\"12 // 0\") ➞ -1 // 12 / 0 = -1\n"
   ]
  },
  {
   "cell_type": "code",
   "execution_count": 59,
   "id": "4f6530e7",
   "metadata": {},
   "outputs": [
    {
     "name": "stdout",
     "output_type": "stream",
     "text": [
      "arithmetic_operation 12 // 0 = -1\n",
      "arithmetic_operation 12 // 2 = 6\n",
      "arithmetic_operation 12 + 12 = 24\n",
      "arithmetic_operation 12 - 12 = 0\n",
      "arithmetic_operation 12 * 12 = 144\n"
     ]
    }
   ],
   "source": [
    "import operator\n",
    "\n",
    "ops = {'+':operator.add, '-':operator.sub, '*':operator.mul, '//':operator.floordiv}\n",
    "\n",
    "def arithmetic_operation(in_string):\n",
    "    in_list = in_string.split(\" \")\n",
    "    if in_list[1] == '//' and in_list[2] == '0':\n",
    "        print(f'arithmetic_operation {in_string} = {-1}')\n",
    "    else:\n",
    "        output = ops[in_list[1]](int(in_list[0]),int(in_list[2]))\n",
    "        print(f'arithmetic_operation {in_string} = {output}')\n",
    "\n",
    "arithmetic_operation(\"12 // 0\")        \n",
    "arithmetic_operation(\"12 // 2\")\n",
    "arithmetic_operation(\"12 + 12\")\n",
    "arithmetic_operation(\"12 - 12\")\n",
    "arithmetic_operation(\"12 * 12\")"
   ]
  },
  {
   "cell_type": "raw",
   "id": "4b104df1",
   "metadata": {},
   "source": [
    "2. Write a function that takes the coordinates of three points in the form of a 2d array and returns the perimeter of the triangle. The given points are the vertices of a triangle on a two-dimensional plane.\n",
    "\n",
    "Examples:\n",
    "\n",
    "perimeter( [ [15, 7], [5, 22], [11, 1] ] ) ➞ 47.08\n",
    "\n",
    "perimeter( [ [0, 0], [0, 1], [1, 0] ] ) ➞ 3.42\n",
    "\n",
    "perimeter( [ [-10, -10], [10, 10 ], [-10, 10] ] ) ➞ 68.28\n"
   ]
  },
  {
   "cell_type": "code",
   "execution_count": 102,
   "id": "75110047",
   "metadata": {},
   "outputs": [
    {
     "name": "stdout",
     "output_type": "stream",
     "text": [
      "perimeter([[15, 7], [5, 22], [11, 1]]) ➞ 47.08\n",
      "perimeter([[0, 0], [0, 1], [1, 0]]) ➞ 3.41\n",
      "perimeter([[-10, -10], [10, 10], [-10, 10]]) ➞ 68.28\n"
     ]
    }
   ],
   "source": [
    "import math\n",
    "\n",
    "def distance(a,b):\n",
    "    return math.sqrt(pow(b[1]-a[1],2) + pow(b[0]-a[0],2))\n",
    "\n",
    "def perimeter(in_array):\n",
    "    out_perimeter = []\n",
    "    for ele in range(len(in_array)):\n",
    "        if ele == len(in_array)-1:\n",
    "            out_perimeter.append(distance(in_array[ele],in_array[0]))\n",
    "        else:\n",
    "            out_perimeter.append(distance(in_array[ele],in_array[ele+1]))\n",
    "    #print(f'{sum(out_array):.2f}')\n",
    "    print((f'perimeter({in_array}) ➞ {sum(out_perimeter):.2f}'))\n",
    "\n",
    "perimeter([[15,7],[5,22],[11,1]])\n",
    "perimeter([[0,0],[0,1],[1,0]])\n",
    "perimeter([[-10,-10],[10,10],[-10,10]])"
   ]
  },
  {
   "cell_type": "raw",
   "id": "3b74cc23",
   "metadata": {},
   "source": [
    "3. A city skyline can be represented as a 2-D list with 1s representing buildings. In the example below, the height of the tallest building is 4 (second-most right column).\n",
    "\n",
    "[[0, 0, 0, 0, 0, 0],\n",
    "[0, 0, 0, 0, 1, 0],\n",
    "[0, 0, 1, 0, 1, 0],\n",
    "[0, 1, 1, 1, 1, 0],\n",
    "[1, 1, 1, 1, 1, 1]]\n",
    "\n",
    "Create a function that takes a skyline (2-D list of 0's and 1's) and returns the height of the tallest skyscraper.\n",
    "\n",
    "Examples\n",
    "\n",
    "tallest_skyscraper([\n",
    "  [0, 0, 0, 0],\n",
    "  [0, 1, 0, 0],\n",
    "  [0, 1, 1, 0],\n",
    "  [1, 1, 1, 1]\n",
    "]) ➞ 3\n",
    "\n",
    "tallest_skyscraper([\n",
    "  [0, 1, 0, 0],\n",
    "  [0, 1, 0, 0],\n",
    "  [0, 1, 1, 0],\n",
    "  [1, 1, 1, 1]\n",
    "]) ➞ 4\n",
    "\n",
    "tallest_skyscraper([\n",
    "  [0, 0, 0, 0],\n",
    "  [0, 0, 0, 0],\n",
    "  [1, 1, 1, 0],\n",
    "  [1, 1, 1, 1]\n",
    "]) ➞ 2\n"
   ]
  },
  {
   "cell_type": "code",
   "execution_count": 107,
   "id": "a5d4417e",
   "metadata": {},
   "outputs": [
    {
     "name": "stdout",
     "output_type": "stream",
     "text": [
      "tallest_skyscraper([[0, 0, 0, 0], [0, 0, 0, 0], [1, 1, 1, 0], [1, 1, 1, 1]]) ➞ 2\n"
     ]
    }
   ],
   "source": [
    "def tallest_skyscraper(in_list):\n",
    "    out_list = []\n",
    "    for num in range(len(in_list)):\n",
    "        count = 0\n",
    "        for ele in range(len(in_list[num])):\n",
    "            count += in_list[ele][num]\n",
    "            #print(count)\n",
    "        out_list.append(count)\n",
    "    print(f'tallest_skyscraper({in_list}) ➞ {max(out_list)}')\n",
    "\n",
    "tallest_skyscraper([[0, 0, 0, 0],[0, 0, 0, 0],[1, 1, 1, 0],[1, 1, 1, 1]])\n",
    "#tallest_skyscraper([[0, 0, 0, 0],[0, 1, 0, 0],[0, 1, 1, 0],[1, 1, 1, 1]])\n",
    "#tallest_skyscraper([[0, 1, 0, 0],[0, 1, 0, 0],[0, 1, 1, 0],[1, 1, 1, 1]])"
   ]
  },
  {
   "cell_type": "code",
   "execution_count": 117,
   "id": "ee0b3533",
   "metadata": {},
   "outputs": [],
   "source": [
    "def tallest_skyscraper(in_list):\n",
    "    out_list = []\n",
    "    for ele in range(len(in_list)):\n",
    "        count = 0\n",
    "        for sub_ele in range(len(in_list[ele])):\n",
    "            count += in_list[sub_ele][ele]\n",
    "        out_list.append(count)\n",
    "    print(f'tallest_skyscraper {in_list} --> {max(out_list)}')"
   ]
  },
  {
   "cell_type": "code",
   "execution_count": 119,
   "id": "894025c4",
   "metadata": {},
   "outputs": [
    {
     "name": "stdout",
     "output_type": "stream",
     "text": [
      "tallest_skyscraper [[0, 0, 0, 0], [0, 0, 0, 0], [1, 1, 1, 0], [1, 1, 1, 1]] --> 2\n",
      "tallest_skyscraper [[0, 0, 0, 0], [0, 1, 0, 0], [0, 1, 1, 0], [1, 1, 1, 1]] --> 3\n",
      "tallest_skyscraper [[0, 1, 0, 0], [0, 1, 0, 0], [0, 1, 1, 0], [1, 1, 1, 1]] --> 4\n"
     ]
    }
   ],
   "source": [
    "tallest_skyscraper([[0, 0, 0, 0],[0, 0, 0, 0],[1, 1, 1, 0],[1, 1, 1, 1]])\n",
    "tallest_skyscraper([[0, 0, 0, 0],[0, 1, 0, 0],[0, 1, 1, 0],[1, 1, 1, 1]])\n",
    "tallest_skyscraper([[0, 1, 0, 0],[0, 1, 0, 0],[0, 1, 1, 0],[1, 1, 1, 1]])"
   ]
  },
  {
   "cell_type": "raw",
   "id": "1a73cc40",
   "metadata": {},
   "source": [
    "4. A financial institution provides professional services to banks and claims charges from the customers based on the number of man-days provided. Internally, it has set a scheme to motivate and reward staff to meet and exceed targeted billable utilization and revenues by paying a bonus for each day claimed from customers in excess of a threshold target.\n",
    "\n",
    "This quarterly scheme is calculated with a threshold target of 32 days per quarter, and the incentive payment for each billable day in excess of such threshold target is shown as follows:\n",
    "\n",
    "Days\t                             Bonus\n",
    "0 to 32 days\t                   Zero\n",
    "33 to 40 days\t         SGD$325 per billable day\n",
    "41 to 48 days\t         SGD$550 per billable day\n",
    "Greater than 48 days      SGD$600 per billable day\n",
    "\n",
    "Please note that incentive payment is calculated progressively. As an example, if an employee reached total billable days of 45 in a quarter, his/her incentive payment is computed as follows:\n",
    "\n",
    "32*0 + 8*325 + 5*550 = 5350\n",
    "\n",
    "Write a function to read the billable days of an employee and return the bonus he/she has obtained in that quarter.\n",
    "\n",
    "Examples\n",
    "\n",
    "bonus(15) ➞ 0\n",
    "\n",
    "bonus(37) ➞ 1625\n",
    "\n",
    "bonus(50) ➞ 8200\n"
   ]
  },
  {
   "cell_type": "code",
   "execution_count": 126,
   "id": "50aa60e1",
   "metadata": {},
   "outputs": [
    {
     "name": "stdout",
     "output_type": "stream",
     "text": [
      "Bonus(32) --> 0\n",
      "Bonus(38) --> 1950\n",
      "Bonus(40) --> 2600\n",
      "Bonus(45) --> 5350\n",
      "Bonus(50) --> 8200\n"
     ]
    }
   ],
   "source": [
    "def bonus(in_days):\n",
    "    total_bonusPay = 0\n",
    "    days_33to40 = 325\n",
    "    days_41to48 = 550\n",
    "    days_Above48 = 600\n",
    "    \n",
    "    if in_days <= 32:\n",
    "        print(f'Bonus({in_days}) --> {total_bonusPay}')\n",
    "    \n",
    "    elif(in_days > 32 and in_days <= 40):\n",
    "              total_bonusPay = (in_days-32)*days_33to40\n",
    "              print(f'Bonus({in_days}) --> {total_bonusPay}')\n",
    "    \n",
    "    elif(in_days >= 41 and in_days <= 48):\n",
    "              total_bonusPay = (8*days_33to40) + (in_days-40)*days_41to48\n",
    "              print(f'Bonus({in_days}) --> {total_bonusPay}')\n",
    "    \n",
    "    else:\n",
    "              total_bonusPay = (8*days_33to40) + (8*days_41to48) + (in_days-48)*days_Above48\n",
    "              print(f'Bonus({in_days}) --> {total_bonusPay}')\n",
    "\n",
    "bonus(32)\n",
    "bonus(38)\n",
    "bonus(40)            \n",
    "bonus(45)\n",
    "bonus(50)\n",
    "    "
   ]
  },
  {
   "cell_type": "raw",
   "id": "f686f480",
   "metadata": {},
   "source": [
    "5. A number is said to be Disarium if the sum of its digits raised to their respective positions is the number itself.\n",
    "\n",
    "Create a function that determines whether a number is a Disarium or not.\n",
    "\n",
    "Examples\n",
    "\n",
    "is_disarium(75) ➞ False\n",
    "# 7^1 + 5^2 = 7 + 25 = 32\n",
    "\n",
    "is_disarium(135) ➞ True\n",
    "# 1^1 + 3^2 + 5^3 = 1 + 9 + 125 = 135\n",
    "\n",
    "is_disarium(544) ➞ False\n",
    "\n",
    "is_disarium(518) ➞ True\n",
    "\n",
    "is_disarium(466) ➞ False\n",
    "\n",
    "is_disarium(8) ➞ True\n"
   ]
  },
  {
   "cell_type": "code",
   "execution_count": 130,
   "id": "55c668b9",
   "metadata": {},
   "outputs": [
    {
     "name": "stdout",
     "output_type": "stream",
     "text": [
      "is_disarium(135) --> True\n",
      "is_disarium(17) --> False\n",
      "is_disarium(89) --> True\n"
     ]
    }
   ],
   "source": [
    "import math\n",
    "def is_disarium(num):\n",
    "    num_sum = 0\n",
    "    num_copy = num\n",
    "    count_digit = len(str(num))\n",
    "    \n",
    "    while(num_copy != 0):\n",
    "        r = num_copy % 10\n",
    "        num_sum = num_sum + math.pow(r,count_digit)\n",
    "        num_copy = num_copy // 10\n",
    "        count_digit = count_digit -1\n",
    "    if(num_sum == num):\n",
    "        print(f'is_disarium({num}) --> {True}') \n",
    "    else:\n",
    "        print(f'is_disarium({num}) --> {False}')\n",
    "        \n",
    "is_disarium(135)\n",
    "is_disarium(17)\n",
    "is_disarium(89)"
   ]
  },
  {
   "cell_type": "code",
   "execution_count": null,
   "id": "892f8804",
   "metadata": {},
   "outputs": [],
   "source": []
  }
 ],
 "metadata": {
  "kernelspec": {
   "display_name": "Python 3 (ipykernel)",
   "language": "python",
   "name": "python3"
  },
  "language_info": {
   "codemirror_mode": {
    "name": "ipython",
    "version": 3
   },
   "file_extension": ".py",
   "mimetype": "text/x-python",
   "name": "python",
   "nbconvert_exporter": "python",
   "pygments_lexer": "ipython3",
   "version": "3.9.7"
  }
 },
 "nbformat": 4,
 "nbformat_minor": 5
}
