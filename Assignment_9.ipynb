{
 "cells": [
  {
   "cell_type": "raw",
   "id": "6ef1acc7",
   "metadata": {},
   "source": [
    "1.To what does a relative path refer ?\n",
    "\n",
    "Answer:\n",
    "    \n",
    "Relative paths are relative to the current working directory."
   ]
  },
  {
   "cell_type": "raw",
   "id": "3351bac0",
   "metadata": {},
   "source": [
    "2.Where does an absolute path start with your Operating System ?\n",
    "\n",
    "Answer:\n",
    "\n",
    "Absolute paths start with the root folder, such as / or C:\\       "
   ]
  },
  {
   "cell_type": "raw",
   "id": "a4911b70",
   "metadata": {},
   "source": [
    "3.What does the functions os.getcwd() and os.chdir() do ?\n",
    "\n",
    "Answer:\n",
    "    \n",
    "The os.getcwd() function returns the current working directory. The os.chdir() function changes the current working directory."
   ]
  },
  {
   "cell_type": "raw",
   "id": "bce2db8c",
   "metadata": {},
   "source": [
    "4. What are the . and .. folders?\n",
    "\n",
    "Answer:\n",
    "    \n",
    "The . folder is the current folder, and .. is the parent folder."
   ]
  },
  {
   "cell_type": "raw",
   "id": "7b88d20e",
   "metadata": {},
   "source": [
    "5. In C:\\bacon\\eggs\\spam.txt, which part is the dir name, and which part is the base name?\n",
    "    \n",
    "Answer:\n",
    "    \n",
    "C:\\bacon\\eggs is the dir name, while spam.txt is the base name."
   ]
  },
  {
   "cell_type": "raw",
   "id": "3b1d74f8",
   "metadata": {},
   "source": [
    "6. What are the three “mode” arguments that can be passed to the open() function?\n",
    "\n",
    "Answer:\n",
    "    \n",
    "'r' for read mode, 'w' for write mode, and 'a' for append mode."
   ]
  },
  {
   "cell_type": "raw",
   "id": "211b4ae3",
   "metadata": {},
   "source": [
    "7. What happens if an existing file is opened in write mode?\n",
    "\n",
    "Answer:\n",
    "\n",
    "Using this write mode will overwrite any existing content in a file."
   ]
  },
  {
   "cell_type": "raw",
   "id": "b4b2cbbe",
   "metadata": {},
   "source": [
    "8. How do you tell the difference between read() and readlines()?\n",
    "\n",
    "Answer:\n",
    "    \n",
    "The read() method returns the file’s entire contents as a single string value. The readlines() method returns a list of strings, where each string is a line from the file’s contents."
   ]
  },
  {
   "cell_type": "raw",
   "id": "14f9364c",
   "metadata": {},
   "source": [
    "9. What data structure does a shelf value resemble?\n",
    "\n",
    "Answer:\n",
    "    \n",
    "It contains key and values it represents dictionary."
   ]
  },
  {
   "cell_type": "code",
   "execution_count": null,
   "id": "9063bab9",
   "metadata": {},
   "outputs": [],
   "source": []
  }
 ],
 "metadata": {
  "kernelspec": {
   "display_name": "Python 3 (ipykernel)",
   "language": "python",
   "name": "python3"
  },
  "language_info": {
   "codemirror_mode": {
    "name": "ipython",
    "version": 3
   },
   "file_extension": ".py",
   "mimetype": "text/x-python",
   "name": "python",
   "nbconvert_exporter": "python",
   "pygments_lexer": "ipython3",
   "version": "3.9.7"
  }
 },
 "nbformat": 4,
 "nbformat_minor": 5
}
