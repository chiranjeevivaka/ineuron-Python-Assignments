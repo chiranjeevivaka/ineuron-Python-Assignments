{
 "cells": [
  {
   "cell_type": "raw",
   "id": "3361cf27",
   "metadata": {},
   "source": [
    "1. Write a python program to find LCM?"
   ]
  },
  {
   "cell_type": "code",
   "execution_count": 15,
   "id": "0346ff80",
   "metadata": {},
   "outputs": [],
   "source": [
    "def LCM(x,y):\n",
    "    if x > y:\n",
    "        big = x\n",
    "    else:\n",
    "        big = y\n",
    "    while(True):\n",
    "        if (big % x == 0) & (big % y == 0):\n",
    "            lcm = big\n",
    "            break\n",
    "        big = big +1\n",
    "    return lcm\n",
    "\n",
    "            \n",
    "        "
   ]
  },
  {
   "cell_type": "code",
   "execution_count": 16,
   "id": "274daa31",
   "metadata": {},
   "outputs": [
    {
     "name": "stdout",
     "output_type": "stream",
     "text": [
      "LCM of 54 and 24 is :  216\n"
     ]
    }
   ],
   "source": [
    "x, y = 54, 24\n",
    "print(\"LCM of\", x , \"and\", y, \"is : \", LCM(x,y))"
   ]
  },
  {
   "cell_type": "raw",
   "id": "32de7e70",
   "metadata": {},
   "source": [
    "2. Write a python program to find HCF?"
   ]
  },
  {
   "cell_type": "code",
   "execution_count": 17,
   "id": "ec3a45a9",
   "metadata": {},
   "outputs": [],
   "source": [
    "def HCF(x,y):\n",
    "    if x > y:\n",
    "        small = y\n",
    "    else:\n",
    "        small = x\n",
    "    for i in range (1, small + 1):\n",
    "        if ((x % i == 0) & (y % i == 0)):\n",
    "            hcf = i\n",
    "    return hcf\n"
   ]
  },
  {
   "cell_type": "code",
   "execution_count": 18,
   "id": "d7da2851",
   "metadata": {},
   "outputs": [
    {
     "name": "stdout",
     "output_type": "stream",
     "text": [
      "HCF of 12 and 16 is: 4\n"
     ]
    }
   ],
   "source": [
    "x,y = 12, 16\n",
    "print(\"HCF of\",x,\"and\", y, \"is:\",HCF(x,y))"
   ]
  },
  {
   "cell_type": "raw",
   "id": "0a61906e",
   "metadata": {},
   "source": [
    "3. Write a Python program to convert Decimal to Binary,Octal and Hexadecima?"
   ]
  },
  {
   "cell_type": "code",
   "execution_count": 19,
   "id": "40bb7f08",
   "metadata": {},
   "outputs": [],
   "source": [
    "def conversion(Decimal_number):\n",
    "    \n",
    "    print(\"Binary conversion of\",Decimal_number, \"is:\", bin(Decimal_number))\n",
    "    print(\"Octa conversion of\",Decimal_number,\"is:\",oct(Decimal_number))\n",
    "    print(\"Hexa conversion of\", Decimal_number, \"is:\",hex(Decimal_number))\n"
   ]
  },
  {
   "cell_type": "code",
   "execution_count": 20,
   "id": "793b33c1",
   "metadata": {},
   "outputs": [
    {
     "name": "stdout",
     "output_type": "stream",
     "text": [
      "Binary conversion of 16 is: 0b10000\n",
      "Octa conversion of 16 is: 0o20\n",
      "Hexa conversion of 16 is: 0x10\n"
     ]
    }
   ],
   "source": [
    "conversion(16)"
   ]
  },
  {
   "cell_type": "raw",
   "id": "1ad2b348",
   "metadata": {},
   "source": [
    "4. Write a Python program to find ASCII value of a given character?"
   ]
  },
  {
   "cell_type": "code",
   "execution_count": 21,
   "id": "8911ba58",
   "metadata": {},
   "outputs": [],
   "source": [
    "def ASCII(char):\n",
    "    print('ASCII value of', char, \"is:\", ord(char))\n"
   ]
  },
  {
   "cell_type": "code",
   "execution_count": 22,
   "id": "ab500109",
   "metadata": {},
   "outputs": [
    {
     "name": "stdout",
     "output_type": "stream",
     "text": [
      "ASCII value of A is: 65\n"
     ]
    }
   ],
   "source": [
    "ASCII('A')"
   ]
  },
  {
   "cell_type": "code",
   "execution_count": 23,
   "id": "6d2f99a7",
   "metadata": {},
   "outputs": [
    {
     "name": "stdout",
     "output_type": "stream",
     "text": [
      "ASCII value of Z is: 90\n"
     ]
    }
   ],
   "source": [
    "ASCII('Z')"
   ]
  },
  {
   "cell_type": "raw",
   "id": "5a646e66",
   "metadata": {},
   "source": [
    "5. Write a Python program to make simple calculator with 4 basic mathamatical operations?"
   ]
  },
  {
   "cell_type": "code",
   "execution_count": 24,
   "id": "20dc168b",
   "metadata": {},
   "outputs": [
    {
     "name": "stdout",
     "output_type": "stream",
     "text": [
      " select the operation you want to perform :\n",
      "             1. Addition\n",
      "             2. Subtraction\n",
      "             3. Multiplication\n",
      "             4. Division \n",
      "             3\n",
      "Enter first number: 7\n",
      "Enter second number: 9\n",
      "7.0 * 9.0 = 63.0\n",
      "Want to perform another calculation? (Y/N): y\n",
      " select the operation you want to perform :\n",
      "             1. Addition\n",
      "             2. Subtraction\n",
      "             3. Multiplication\n",
      "             4. Division \n",
      "             2\n",
      "Enter first number: 5\n",
      "Enter second number: 6\n",
      "5.0 - 6.0 = -1.0\n",
      "Want to perform another calculation? (Y/N): N\n"
     ]
    }
   ],
   "source": [
    "def addition(a,b):\n",
    "    return a + b\n",
    "def subtraction(a,b):\n",
    "    return a -b\n",
    "def multiplication(a,b):\n",
    "    return a * b\n",
    "def division(a,b):\n",
    "    return a / b\n",
    "\n",
    "\n",
    "\n",
    "while True:\n",
    "    \n",
    "    choice = input(\"\"\" select the operation you want to perform :\n",
    "             1. Addition\n",
    "             2. Subtraction\n",
    "             3. Multiplication\n",
    "             4. Division \n",
    "             \"\"\")\n",
    "\n",
    "    if choice in ('1', '2', '3', '4'):\n",
    "        num1 = float(input(\"Enter first number: \"))\n",
    "        num2 = float(input(\"Enter second number: \"))\n",
    "\n",
    "        if choice == '1':\n",
    "            print(num1, \"+\", num2, \"=\", addition(num1, num2))\n",
    "\n",
    "        elif choice == '2':\n",
    "            print(num1, \"-\", num2, \"=\", subtraction(num1, num2))\n",
    "\n",
    "        elif choice == '3':\n",
    "            print(num1, \"*\", num2, \"=\", multiplication(num1, num2))\n",
    "\n",
    "        elif choice == '4':\n",
    "            print(num1, \"/\", num2, \"=\", division(num1, num2))\n",
    "        \n",
    "\n",
    "        Next_operation = input(\"Want to perform another calculation? (Y/N): \")\n",
    "        if Next_operation == \"N\":\n",
    "              break\n",
    "    \n",
    "    else:\n",
    "        print(\"Invalid Input\")"
   ]
  },
  {
   "cell_type": "code",
   "execution_count": null,
   "id": "6e1c8037",
   "metadata": {},
   "outputs": [],
   "source": []
  }
 ],
 "metadata": {
  "kernelspec": {
   "display_name": "Python 3 (ipykernel)",
   "language": "python",
   "name": "python3"
  },
  "language_info": {
   "codemirror_mode": {
    "name": "ipython",
    "version": 3
   },
   "file_extension": ".py",
   "mimetype": "text/x-python",
   "name": "python",
   "nbconvert_exporter": "python",
   "pygments_lexer": "ipython3",
   "version": "3.9.7"
  }
 },
 "nbformat": 4,
 "nbformat_minor": 5
}
