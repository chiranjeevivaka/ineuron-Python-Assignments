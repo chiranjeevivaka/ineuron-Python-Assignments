{
 "cells": [
  {
   "cell_type": "raw",
   "id": "eff84cf3",
   "metadata": {},
   "source": [
    "1. In the below elements which of them are values or an expression? eg:- values can be integer or string and expressions will be mathematical operators.\n",
    "* \n",
    "'hello'\n",
    "-87.8\n",
    "- \n",
    "/ \n",
    "+\t\n",
    "6 \n"
   ]
  },
  {
   "cell_type": "markdown",
   "id": "7c3a2d37",
   "metadata": {},
   "source": [
    "<span style='color:Blue'> Answer: </span>\n",
    "\n",
    "*, -, / and + are Expressions \n",
    "\n",
    "'hello',-87.8 and 6 are values"
   ]
  },
  {
   "cell_type": "raw",
   "id": "cebf6cb8",
   "metadata": {},
   "source": [
    "2. What is the difference between string and variable?\n",
    "\n"
   ]
  },
  {
   "cell_type": "markdown",
   "id": "bb360ff2",
   "metadata": {},
   "source": [
    "<span style='color:Blue'> Answer: </span>\n",
    "\n",
    "String is a data type which is a combination characters or number or special characters or combination of all of them enclosed in single\\doube quotes.\n",
    "\n",
    "eg: 'hello', '534', \"abc&d5f\", ect..\n",
    "\n",
    "Variable is like a pointer/reference  to a memory location where the values are being stored in logical memory. \n",
    "\n",
    "eg: A = 10, in this case A is a variable which points to a value 10.\n",
    "\n"
   ]
  },
  {
   "cell_type": "raw",
   "id": "6fdc7f91",
   "metadata": {},
   "source": [
    "3. Describe three different data types."
   ]
  },
  {
   "cell_type": "markdown",
   "id": "cab8920b",
   "metadata": {},
   "source": [
    "<span style='color:Blue'> Answer: </span>\n",
    "\n",
    "In Python we have different kinds of data types below is the list of few of them:\n",
    "\n",
    "1. int : it holds integer values eg: 1, 444, -81\n",
    "\n",
    "2. float: it holds decimal values eg: a = 1.234\n",
    "\n",
    "3. complex : it holds complex values eg: 3+7j\n",
    "\n",
    "4. Boolian : it holds True\\False type of values eg: A = True, B= False\n",
    "\n",
    "5. String : it holds combination of characters enclosed whith in quotes. eg: 'abc', \"world 2 day\""
   ]
  },
  {
   "cell_type": "raw",
   "id": "29e79784",
   "metadata": {},
   "source": [
    "4. What is an expression made up of? What do all expressions do?"
   ]
  },
  {
   "cell_type": "markdown",
   "id": "05367064",
   "metadata": {},
   "source": [
    "<span style='color:Blue'> Answer: </span>\n",
    "\n",
    "Expression is a combination of operators and values which can produce some values. Expressions will perform the operations according to their operator precedence and will generate a result out of it. Hee are the types of expressions we have in python: Logical, Arithmetic, Relational, etc.."
   ]
  },
  {
   "cell_type": "raw",
   "id": "08926315",
   "metadata": {},
   "source": [
    "5. This assignment statements, like spam = 10. What is the difference between an expression and a statement?"
   ]
  },
  {
   "cell_type": "markdown",
   "id": "2386cbfe",
   "metadata": {},
   "source": [
    "<span style='color:Blue'> Answer: </span>\n",
    "\n",
    "Expression always generate/return a value after the execution.\n",
    "\n",
    "Statement may or may not return a value it's based on how we declare the statement.\n"
   ]
  },
  {
   "cell_type": "raw",
   "id": "053b81f2",
   "metadata": {},
   "source": [
    "6. After running the following code, what does the variable bacon contain?\n",
    "bacon = 22\n",
    "bacon + 1\n"
   ]
  },
  {
   "cell_type": "markdown",
   "id": "1b8e4f00",
   "metadata": {},
   "source": [
    "<span style='color:Blue'> Answer: </span> it contais 22 only because we are not assigning any value back to bacon."
   ]
  },
  {
   "cell_type": "raw",
   "id": "3b44264b",
   "metadata": {},
   "source": [
    "7. What should the values of the following two terms be?\n",
    "'spam' + 'spamspam'\n",
    "'spam' * 3\n"
   ]
  },
  {
   "cell_type": "markdown",
   "id": "3b7d2454",
   "metadata": {},
   "source": [
    "<span style='color:Blue'> Answer: </span>\n",
    "\n",
    "'spam' + 'spamspam' = spamspamspam\n",
    "\n",
    "'spam' * 3 = spamspamspam\n"
   ]
  },
  {
   "cell_type": "raw",
   "id": "2b9cccde",
   "metadata": {},
   "source": [
    "8. Why is eggs a valid variable name while 100 is invalid?"
   ]
  },
  {
   "cell_type": "markdown",
   "id": "731542de",
   "metadata": {},
   "source": [
    "<span style='color:Blue'> Answer: </span>\n",
    "\n",
    "eggs is valid and 100 is invalid because there are few rules we need to follow while delaring a variable name, here are few of them:\n",
    "\n",
    "1. variable name must start with a letter or the underscore character.\n",
    "2. variable name cannot start with a number.\n",
    "3. variable name can only contain alpha-numeric characters and underscores (A-z, 0-9, and _ )"
   ]
  },
  {
   "cell_type": "raw",
   "id": "f2921c51",
   "metadata": {},
   "source": [
    "9. What three functions can be used to get the integer, floating-point number, or string version of a value?"
   ]
  },
  {
   "cell_type": "markdown",
   "id": "58c60cab",
   "metadata": {},
   "source": [
    "<span style= color:blue> Answer: </span>\n",
    "\n",
    "int(), float() and str() functions can be used to get the integer, floating-point number, or string version of a value.\n",
    "\n",
    "eg: a = 7\n",
    "\n",
    "int(a) = 7\n",
    "\n",
    "float(a) = 7.0\n",
    "\n",
    "str(a) = '7'\n",
    "\n"
   ]
  },
  {
   "cell_type": "raw",
   "id": "6a70d464",
   "metadata": {},
   "source": [
    "10. Why does this expression cause an error? How can you fix it?\n",
    "'I have eaten ' + 99 + ' burritos.'\n"
   ]
  },
  {
   "cell_type": "markdown",
   "id": "a9000fd9",
   "metadata": {},
   "source": [
    "<span style = color:blue> Answer: </span>\n",
    "\n",
    "It will error out because you can't concatenate string with a numeric value. if we want to conctenate string with integer then we need to type caste it.below is the code to fix the issue:\n",
    "\n",
    "'I have eaten ' + str(99) + ' burritos.'"
   ]
  },
  {
   "cell_type": "code",
   "execution_count": null,
   "id": "35dd8be8",
   "metadata": {},
   "outputs": [],
   "source": []
  },
  {
   "cell_type": "code",
   "execution_count": null,
   "id": "67266148",
   "metadata": {},
   "outputs": [],
   "source": []
  }
 ],
 "metadata": {
  "kernelspec": {
   "display_name": "Python 3 (ipykernel)",
   "language": "python",
   "name": "python3"
  },
  "language_info": {
   "codemirror_mode": {
    "name": "ipython",
    "version": 3
   },
   "file_extension": ".py",
   "mimetype": "text/x-python",
   "name": "python",
   "nbconvert_exporter": "python",
   "pygments_lexer": "ipython3",
   "version": "3.9.7"
  }
 },
 "nbformat": 4,
 "nbformat_minor": 5
}
