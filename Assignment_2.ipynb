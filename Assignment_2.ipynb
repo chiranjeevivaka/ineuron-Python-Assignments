{
 "cells": [
  {
   "cell_type": "raw",
   "id": "f2ca0470",
   "metadata": {},
   "source": [
    "1.What are the two values of the Boolean data type? How do you write them?"
   ]
  },
  {
   "cell_type": "markdown",
   "id": "4ed3d9ef",
   "metadata": {},
   "source": [
    "<span style= color:blue> Answer: </span>\n",
    "\n",
    "True and False are the two values of boolean data type. we can write them as follows : True, False"
   ]
  },
  {
   "cell_type": "raw",
   "id": "e82962c0",
   "metadata": {},
   "source": [
    "2. What are the three different types of Boolean operators?"
   ]
  },
  {
   "cell_type": "markdown",
   "id": "c803432e",
   "metadata": {},
   "source": [
    "<span style= color:blue> Answer: </span>\n",
    "\n",
    "1. and\n",
    "2. or\n",
    "3. not\n"
   ]
  },
  {
   "cell_type": "raw",
   "id": "c35dcc14",
   "metadata": {},
   "source": [
    "3. Make a list of each Boolean operator's truth tables (i.e. every possible combination of Boolean values for the operator and what it evaluate )."
   ]
  },
  {
   "cell_type": "markdown",
   "id": "40af493e",
   "metadata": {},
   "source": [
    "Here is the table :\n",
    "\n",
    "    True and True   = True\n",
    "    True and False  = False\n",
    "    False and False = False\n",
    "    False and True  = False\n",
    "\n",
    "    True or True    = True\n",
    "    True or False   = True\n",
    "    False or True   = True\n",
    "    False or False  = False\n",
    "\n",
    "    not True = False\n",
    "    not False = True\n",
    "\n"
   ]
  },
  {
   "cell_type": "raw",
   "id": "6d7bd632",
   "metadata": {},
   "source": [
    "4. What are the values of the following expressions?\n",
    "(5 > 4) and (3 == 5)\n",
    "not (5 > 4)\n",
    "(5 > 4) or (3 == 5)\n",
    "not ((5 > 4) or (3 == 5))\n",
    "(True and True) and (True == False)\n",
    "(not False) or (not True)\n"
   ]
  },
  {
   "cell_type": "markdown",
   "id": "d4642777",
   "metadata": {},
   "source": [
    "<span style= color:blue> Answer: </span>\n",
    "1. (5 > 4) and (3 == 5)                evaluates to False\n",
    "2. not (5 > 4)                         evaluates to False\n",
    "3. (5 > 4) or (3 == 5)                 evaluates to True\n",
    "4. not ((5 > 4) or (3 == 5))           evaluates to False\n",
    "5. (True and True) and (True == False) evaluates to False\n",
    "6. (not False) or (not True)           evaluates to True\n"
   ]
  },
  {
   "cell_type": "raw",
   "id": "a0d8a541",
   "metadata": {},
   "source": [
    "5. What are the six comparison operators?"
   ]
  },
  {
   "cell_type": "markdown",
   "id": "dc61b220",
   "metadata": {},
   "source": [
    "<span style = color:blue> Answer: </span>\n",
    "\n",
    "==, >, <, !=, >= and <="
   ]
  },
  {
   "cell_type": "raw",
   "id": "4a07ed49",
   "metadata": {},
   "source": [
    "6. How do you tell the difference between the equal to and assignment operators?Describe a condition and when you would use one."
   ]
  },
  {
   "cell_type": "markdown",
   "id": "7ef44aaa",
   "metadata": {},
   "source": [
    "<span style = color:blue> Answer: </span>\n",
    "\n",
    "equal to operator(==) is used to compare weather two values are equl or not, it will give result like True or False.\n",
    "\n",
    "assignment operator(=) is used to assign/store a value in a varialbe."
   ]
  },
  {
   "cell_type": "raw",
   "id": "dafdf9bb",
   "metadata": {},
   "source": [
    "7. Identify the three blocks in this code:\n",
    "spam = 0\n",
    "if spam == 10:\n",
    "print('eggs')\n",
    "if spam > 5:\n",
    "print('bacon')\n",
    "else:\n",
    "print('ham')\n",
    "print('spam')\n",
    "print('spam')\n"
   ]
  },
  {
   "cell_type": "markdown",
   "id": "53094d56",
   "metadata": {},
   "source": [
    "<span style = color:blue> Answer: </span>\n",
    "\n",
    "the three blocks are:\n",
    "1. if spam == 10:\n",
    "    print('eggs')\n",
    "\n",
    "2. if spam > 5:\n",
    "        print('bacon')\n",
    "    else:\n",
    "        print('ham')\n",
    "\n",
    "3. print('spam')\n",
    "\n",
    "   print('spam')"
   ]
  },
  {
   "cell_type": "raw",
   "id": "1b464f5b",
   "metadata": {},
   "source": [
    "8. Write code that prints Hello if 1 is stored in spam, prints Howdy if 2 is stored in spam, and prints Greetings! if anything else is stored in spam."
   ]
  },
  {
   "cell_type": "markdown",
   "id": "1391ac5a",
   "metadata": {},
   "source": [
    "<span style= color:blue>Answer:</span>"
   ]
  },
  {
   "cell_type": "code",
   "execution_count": null,
   "id": "1070580d",
   "metadata": {},
   "outputs": [],
   "source": [
    "if spam == 1:\n",
    "    print('Hello')\n",
    "elif spam == 2:\n",
    "    print('Howdy')\n",
    "else:\n",
    "    print('Greetings!')"
   ]
  },
  {
   "cell_type": "raw",
   "id": "add73189",
   "metadata": {},
   "source": [
    "9.If your programme is stuck in an endless loop, what keys you’ll press?"
   ]
  },
  {
   "cell_type": "markdown",
   "id": "9eea6611",
   "metadata": {},
   "source": [
    "<span style = color:blue>Answer: </span>CTRL + C"
   ]
  },
  {
   "cell_type": "raw",
   "id": "a15f85b2",
   "metadata": {},
   "source": [
    "10. How can you tell the difference between break and continue?"
   ]
  },
  {
   "cell_type": "markdown",
   "id": "39b6e3bc",
   "metadata": {},
   "source": [
    "<span style = color:blue>Answer: </span> Break statement will move the execution control to out of the current loop to next statement where as the Continue statement will move the execution control to start of the current loop.\n",
    "        "
   ]
  },
  {
   "cell_type": "raw",
   "id": "0b3761e3",
   "metadata": {},
   "source": [
    "11. In a for loop, what is the difference between range(10), range(0, 10), and range(0, 10, 1)?"
   ]
  },
  {
   "cell_type": "markdown",
   "id": "bbae0edf",
   "metadata": {},
   "source": [
    "<span style = color:blue>Answer: </span> \n",
    "\n",
    "range(10) starts at 0 upto 10 (not includes 10).\n",
    "\n",
    "range(0, 10) explicitely we are starting it at 0 upto 10 (not inludes 10).\n",
    "\n",
    "range(0,10,1) we are starting at 0 upto 10 (not includes 10 ) with a step values/ increment of 1."
   ]
  },
  {
   "cell_type": "raw",
   "id": "eb90e2d5",
   "metadata": {},
   "source": [
    "12. Write a short program that prints the numbers 1 to 10 using a for loop. Then write an equivalent program that prints the numbers 1 to 10 using a while loop."
   ]
  },
  {
   "cell_type": "markdown",
   "id": "b930fa28",
   "metadata": {},
   "source": [
    "<span style = color:blue>Answer: </span> "
   ]
  },
  {
   "cell_type": "code",
   "execution_count": 13,
   "id": "b3caf455",
   "metadata": {},
   "outputs": [
    {
     "name": "stdout",
     "output_type": "stream",
     "text": [
      "1\n",
      "2\n",
      "3\n",
      "4\n",
      "5\n",
      "6\n",
      "7\n",
      "8\n",
      "9\n",
      "10\n",
      "1\n",
      "2\n",
      "3\n",
      "4\n",
      "5\n",
      "6\n",
      "7\n",
      "8\n",
      "9\n",
      "10\n"
     ]
    }
   ],
   "source": [
    "for i in range(1,11):\n",
    "    print(i)\n",
    "\n",
    "i = 1\n",
    "while (i<= 10):\n",
    "    print(i)\n",
    "    i = i+1"
   ]
  },
  {
   "cell_type": "raw",
   "id": "2fb65a47",
   "metadata": {},
   "source": [
    "13. If you had a function named bacon() inside a module named spam, how would you call it after importing spam?"
   ]
  },
  {
   "cell_type": "markdown",
   "id": "7206e748",
   "metadata": {},
   "source": [
    "<span style = color:blue>Answer: </span>\n",
    "\n",
    "import spam\n",
    "\n",
    "spam.bacon()\n",
    "        "
   ]
  },
  {
   "cell_type": "code",
   "execution_count": null,
   "id": "6366c5ec",
   "metadata": {},
   "outputs": [],
   "source": []
  }
 ],
 "metadata": {
  "kernelspec": {
   "display_name": "Python 3 (ipykernel)",
   "language": "python",
   "name": "python3"
  },
  "language_info": {
   "codemirror_mode": {
    "name": "ipython",
    "version": 3
   },
   "file_extension": ".py",
   "mimetype": "text/x-python",
   "name": "python",
   "nbconvert_exporter": "python",
   "pygments_lexer": "ipython3",
   "version": "3.9.7"
  }
 },
 "nbformat": 4,
 "nbformat_minor": 5
}
