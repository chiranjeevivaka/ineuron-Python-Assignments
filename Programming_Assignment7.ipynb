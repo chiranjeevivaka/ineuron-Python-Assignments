{
 "cells": [
  {
   "cell_type": "raw",
   "id": "2fe27d20",
   "metadata": {},
   "source": [
    "1.\tWrite a Python Program to find sum of array?"
   ]
  },
  {
   "cell_type": "code",
   "execution_count": 3,
   "id": "cfa03d1a",
   "metadata": {},
   "outputs": [
    {
     "name": "stdout",
     "output_type": "stream",
     "text": [
      "Enter the Array: 2,6,9,4\n",
      "The sum of (2, 6, 9, 4) is: 21\n"
     ]
    }
   ],
   "source": [
    "def sumOfArray():\n",
    "    in_arr = eval(input(\"Enter the Array: \"))\n",
    "    print(f'The sum of {in_arr} is: {sum(in_arr)}')\n",
    "\n",
    "sumOfArray()"
   ]
  },
  {
   "cell_type": "raw",
   "id": "2d367f00",
   "metadata": {},
   "source": [
    "2.\tWrite a Python Program to find largest element in an array?"
   ]
  },
  {
   "cell_type": "code",
   "execution_count": 4,
   "id": "21290330",
   "metadata": {},
   "outputs": [
    {
     "name": "stdout",
     "output_type": "stream",
     "text": [
      "Enter the Array: 2,4,5,7,22,53,-1\n",
      "The Largest Element in (2, 4, 5, 7, 22, 53, -1) is: 53\n"
     ]
    }
   ],
   "source": [
    "def largestElement():\n",
    "    in_arr = eval(input(\"Enter the Array: \"))\n",
    "    print(f\"The Largest Element in {in_arr} is: {sorted(in_arr, reverse=True)[0]}\")\n",
    "    \n",
    "largestElement()"
   ]
  },
  {
   "cell_type": "raw",
   "id": "9dbf37d5",
   "metadata": {},
   "source": [
    "3.\tWrite a Python Program for array rotation?"
   ]
  },
  {
   "cell_type": "code",
   "execution_count": 5,
   "id": "f434940b",
   "metadata": {},
   "outputs": [
    {
     "name": "stdout",
     "output_type": "stream",
     "text": [
      "Enter the Array: 22,43,12,56\n",
      "The Reverse of Array (22, 43, 12, 56) is: (56, 12, 43, 22)\n"
     ]
    }
   ],
   "source": [
    "def reverseOfArray():\n",
    "    in_arr = eval(input(\"Enter the Array: \"))\n",
    "    print(f\"The Reverse of Array {in_arr} is: {in_arr[::-1]}\")\n",
    "    \n",
    "reverseOfArray()"
   ]
  },
  {
   "cell_type": "raw",
   "id": "575a9cba",
   "metadata": {},
   "source": [
    "4.\tWrite a Python Program to Split the array and add the first part to the end?"
   ]
  },
  {
   "cell_type": "code",
   "execution_count": 9,
   "id": "133db429",
   "metadata": {},
   "outputs": [
    {
     "name": "stdout",
     "output_type": "stream",
     "text": [
      "Enter the Array: 2,4,67,991\n",
      "The Sum of First and Last Elements of Array (2, 4, 67, 991) is 993\n"
     ]
    }
   ],
   "source": [
    "def sumOfArraySplits():\n",
    "    in_arr = eval(input(\"Enter the Array: \"))\n",
    "    print(f\"The Sum of First and Last Elements of Array {in_arr} is {in_arr[0]+in_arr[-1]}\")\n",
    "    \n",
    "sumOfArraySplits()"
   ]
  },
  {
   "cell_type": "raw",
   "id": "75abea3f",
   "metadata": {},
   "source": [
    "5.\tWrite a Python Program to check if given array is Monotonic?"
   ]
  },
  {
   "cell_type": "code",
   "execution_count": 8,
   "id": "fc8fe947",
   "metadata": {},
   "outputs": [
    {
     "name": "stdout",
     "output_type": "stream",
     "text": [
      "Enter the Array: 2,67,89,21\n",
      "Array (2, 67, 89, 21) is Not Monotonic\n",
      "Enter the Array: 2,33,56,79\n",
      "Array (2, 33, 56, 79) is Monotonic\n"
     ]
    }
   ],
   "source": [
    "def ArrayMonotonic():\n",
    "    in_arr = eval(input(\"Enter the Array: \"))\n",
    "    if(all(in_arr[i]<=in_arr[i+1] for i in range(len(in_arr)-1)) or all(in_arr[i]>=in_arr[i+1] for i in range(len(in_arr)-1))):\n",
    "        print(f'Array {in_arr} is Monotonic')\n",
    "    else:\n",
    "        print(f'Array {in_arr} is Not Monotonic')\n",
    "\n",
    "ArrayMonotonic()\n",
    "ArrayMonotonic()"
   ]
  },
  {
   "cell_type": "code",
   "execution_count": null,
   "id": "edaf722c",
   "metadata": {},
   "outputs": [],
   "source": []
  }
 ],
 "metadata": {
  "kernelspec": {
   "display_name": "Python 3 (ipykernel)",
   "language": "python",
   "name": "python3"
  },
  "language_info": {
   "codemirror_mode": {
    "name": "ipython",
    "version": 3
   },
   "file_extension": ".py",
   "mimetype": "text/x-python",
   "name": "python",
   "nbconvert_exporter": "python",
   "pygments_lexer": "ipython3",
   "version": "3.9.7"
  }
 },
 "nbformat": 4,
 "nbformat_minor": 5
}
