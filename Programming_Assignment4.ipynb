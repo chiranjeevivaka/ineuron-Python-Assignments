{
 "cells": [
  {
   "cell_type": "raw",
   "id": "09802c9f",
   "metadata": {},
   "source": [
    "1.\tWrite a Python Program to Find the Factorial of a Number?"
   ]
  },
  {
   "cell_type": "code",
   "execution_count": 6,
   "id": "77bae5f6",
   "metadata": {},
   "outputs": [
    {
     "name": "stdout",
     "output_type": "stream",
     "text": [
      "Factorial of 5 is:  120\n"
     ]
    }
   ],
   "source": [
    "def factorial(num):\n",
    "    if num < 0:\n",
    "        return\n",
    "    elif (num == 0 or num ==1):\n",
    "        return 1\n",
    "    else:\n",
    "        factorial = 1\n",
    "        while(num > 1):\n",
    "            factorial *= num\n",
    "            num -= 1\n",
    "        return factorial\n",
    "    \n",
    "num = 5\n",
    "print(\"Factorial of\",num,\"is: \", factorial(5))        \n",
    "            "
   ]
  },
  {
   "cell_type": "raw",
   "id": "c6ab5fb8",
   "metadata": {},
   "source": [
    "2.\tWrite a Python Program to Display the multiplication Table?"
   ]
  },
  {
   "cell_type": "code",
   "execution_count": 13,
   "id": "a40ff7e9",
   "metadata": {},
   "outputs": [
    {
     "name": "stdout",
     "output_type": "stream",
     "text": [
      "4 * 1 = 4\n",
      "4 * 2 = 8\n",
      "4 * 3 = 12\n",
      "4 * 4 = 16\n",
      "4 * 5 = 20\n",
      "4 * 6 = 24\n",
      "4 * 7 = 28\n",
      "4 * 8 = 32\n",
      "4 * 9 = 36\n",
      "4 * 10 = 40\n"
     ]
    }
   ],
   "source": [
    "def multipletable(num):\n",
    "    for i in range(1, 11):\n",
    "        print(\"%d * %d = %d\" % (num, i, num*i))\n",
    "        \n",
    "multipletable(4)"
   ]
  },
  {
   "cell_type": "raw",
   "id": "8b621331",
   "metadata": {},
   "source": [
    "3.\tWrite a Python Program to Print the Fibonacci sequence?"
   ]
  },
  {
   "cell_type": "code",
   "execution_count": 13,
   "id": "1d785f25",
   "metadata": {},
   "outputs": [
    {
     "name": "stdout",
     "output_type": "stream",
     "text": [
      "The Fibonacci sequence of  7 is:\n",
      "0\n",
      "1\n",
      "1\n",
      "2\n",
      "3\n",
      "5\n",
      "8\n"
     ]
    }
   ],
   "source": [
    "def fibonacci(num):\n",
    "    if num <= 0:\n",
    "        print('not valid number for fibonacci series generation')\n",
    "    elif num == 1:\n",
    "        print(\"Fibonacci sequence of \", num, \"is: \", num)\n",
    "    else:\n",
    "        print(\"The Fibonacci sequence of \", num, \"is:\" )\n",
    "        a,b,iter = 0,1,0\n",
    "        while iter < num:\n",
    "            print(a)\n",
    "            c = a + b\n",
    "            a = b\n",
    "            b = c\n",
    "            iter += 1\n",
    "\n",
    "\n",
    "fibonacci(7)\n"
   ]
  },
  {
   "cell_type": "raw",
   "id": "19c70190",
   "metadata": {},
   "source": [
    "4.\tWrite a Python Program to Check Armstrong Number?"
   ]
  },
  {
   "cell_type": "code",
   "execution_count": 36,
   "id": "e27684a4",
   "metadata": {},
   "outputs": [
    {
     "name": "stdout",
     "output_type": "stream",
     "text": [
      "1634 is Armstrong Number\n"
     ]
    }
   ],
   "source": [
    "def armstrong(num):\n",
    "    order = len(str(num))\n",
    "    sum = 0\n",
    "    temp = num\n",
    "    while temp > 0:\n",
    "        div = temp % 10\n",
    "        sum += div ** order\n",
    "        temp //= 10\n",
    "    if num == sum:\n",
    "        print(num,\"is Armstrong Number\")\n",
    "    else:\n",
    "        print(num, \"is not Armstrong Number\")\n",
    "        \n",
    "armstrong(1634)\n"
   ]
  },
  {
   "cell_type": "raw",
   "id": "9f95e782",
   "metadata": {},
   "source": [
    "5.\tWrite a Python Program to Find Armstrong Number in an Interval?"
   ]
  },
  {
   "cell_type": "code",
   "execution_count": 50,
   "id": "772d6012",
   "metadata": {},
   "outputs": [
    {
     "name": "stdout",
     "output_type": "stream",
     "text": [
      "1\n",
      "153\n",
      "370\n",
      "371\n",
      "407\n"
     ]
    }
   ],
   "source": [
    "def armstronginter(start, end):\n",
    "    for num in range(start, end+1):\n",
    "        \n",
    "        sum = 0\n",
    "        temp = num\n",
    "        while temp > 0:\n",
    "            digit = temp % 10\n",
    "            sum += digit ** 3\n",
    "            temp //= 10\n",
    "        if num == sum:\n",
    "            print(num)\n",
    "        \n",
    "\n",
    "armstronginter(1,500)"
   ]
  },
  {
   "cell_type": "raw",
   "id": "542d6bca",
   "metadata": {},
   "source": [
    "6.\tWrite a Python Program to Find the Sum of Natural Numbers?"
   ]
  },
  {
   "cell_type": "code",
   "execution_count": 60,
   "id": "06b06013",
   "metadata": {},
   "outputs": [
    {
     "data": {
      "text/plain": [
       "21"
      ]
     },
     "execution_count": 60,
     "metadata": {},
     "output_type": "execute_result"
    }
   ],
   "source": [
    "def naturalnum(num):\n",
    "    return round(num * (num + 1) / 2)\n",
    "\n",
    "\n",
    "naturalnum(6)\n"
   ]
  },
  {
   "cell_type": "code",
   "execution_count": null,
   "id": "a25ff62b",
   "metadata": {},
   "outputs": [],
   "source": []
  }
 ],
 "metadata": {
  "kernelspec": {
   "display_name": "Python 3 (ipykernel)",
   "language": "python",
   "name": "python3"
  },
  "language_info": {
   "codemirror_mode": {
    "name": "ipython",
    "version": 3
   },
   "file_extension": ".py",
   "mimetype": "text/x-python",
   "name": "python",
   "nbconvert_exporter": "python",
   "pygments_lexer": "ipython3",
   "version": "3.9.7"
  }
 },
 "nbformat": 4,
 "nbformat_minor": 5
}
