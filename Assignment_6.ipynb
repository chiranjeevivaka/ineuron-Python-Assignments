{
 "cells": [
  {
   "cell_type": "raw",
   "id": "3da5f9d3",
   "metadata": {},
   "source": [
    "1. What are Escape characters ? and how do you use them ?\n",
    "\n",
    "Answer:\n",
    "\n",
    "Escape characters represent characters in string values that would otherwise be difficult or impossible to type into code. we can use the backslash character to escape a single character or symbol\n",
    "example: \\t , \\n "
   ]
  },
  {
   "cell_type": "raw",
   "id": "1321b083",
   "metadata": {},
   "source": [
    "2. What do the escape characters n and t stand for?\n",
    "\n",
    "Answer:\n",
    "\n",
    "\\t is for new tab, \\n is for new line."
   ]
  },
  {
   "cell_type": "raw",
   "id": "63cccc9d",
   "metadata": {},
   "source": [
    "3. What is the way to include backslash character in a string?\n",
    "\n",
    "Answer: The \\\\ escape character can be used to represent the backslash character in a string"
   ]
  },
  {
   "cell_type": "raw",
   "id": "6d377940",
   "metadata": {},
   "source": [
    "4. The string \"Howl's Moving Castle\" is a correct value. Why isn't the single quote character in the word Howl's not escaped a problem ?\n",
    "\n",
    "Answer:\n",
    "\n",
    "The string \"Howl's Moving Castle\" escaped the problem because it is wrapped inside double quotes. if its wrapped inside single quotes then we have to use escape character \\' to show single quote in the final output.\n",
    "'Howl\\'s Moving Castle' -> 'Howl's Moving Castle'"
   ]
  },
  {
   "cell_type": "raw",
   "id": "c20f3531",
   "metadata": {},
   "source": [
    "5. How do you write a string of newlines if you don't want to use the n character?\n",
    "\n",
    "Answer:\n",
    "\n",
    "Multiline string allow you to use newlines in string without the \\n escape character"
   ]
  },
  {
   "cell_type": "code",
   "execution_count": 3,
   "id": "a73ea337",
   "metadata": {},
   "outputs": [
    {
     "name": "stdout",
     "output_type": "stream",
     "text": [
      " Hello\n",
      "My name is\n",
      "Vaka Chiranjeevi\n"
     ]
    }
   ],
   "source": [
    "#Example\n",
    "\n",
    "sting = \"\"\" Hello\n",
    "My name is\n",
    "Vaka Chiranjeevi\"\"\"\n",
    "print(sting)"
   ]
  },
  {
   "cell_type": "raw",
   "id": "4d6ad3db",
   "metadata": {},
   "source": [
    "6. What are the values of the given expressions?\n",
    "'Hello, world!'[1]\n",
    "'Hello, world!'[0:5]\n",
    "'Hello, world!'[:5]\n",
    "'Hello, world!'[3:]\n",
    "\n",
    "Answer:\n",
    "\n",
    "'Hello, world!'[1]    = 'e'\n",
    "'Hello, world!'[0:5]  = 'Hello'\n",
    "'Hello, world!'[:5]   = 'Hello'\n",
    "'Hello, world!'[3:]   = 'lo, world!'"
   ]
  },
  {
   "cell_type": "raw",
   "id": "52479f67",
   "metadata": {},
   "source": [
    "7. What are the values of the following expressions?\n",
    "'Hello'.upper()\n",
    "'Hello'.upper().isupper()\n",
    "'Hello'.upper().lower()\n",
    "\n",
    "Answer:\n",
    "\n",
    "          'Hello'.upper()  = 'HELLO'\n",
    "'Hello'.upper().isupper()  = True\n",
    "'Hello'.upper().lower()    = 'hello'"
   ]
  },
  {
   "cell_type": "raw",
   "id": "e3b3a173",
   "metadata": {},
   "source": [
    "8. What are the values of the following expressions?\n",
    "'Remember, remember, the fifth of July.'.split()\n",
    "'-'.join('There can only one.'.split())\n",
    "\n",
    "Answer:\n",
    "\n",
    "'Remember, remember, the fifth of July.'.split() -> ['Remember,', 'remember,', 'the', 'fifith', 'of', 'July.']\n",
    "'-'.join('There can only one'.split()) -> 'There-can-only-one'"
   ]
  },
  {
   "cell_type": "raw",
   "id": "2e7b3661",
   "metadata": {},
   "source": [
    "9. What are the methods for right-justifying, left-justifying, and centering a string?\n",
    "\n",
    "Answer:\n",
    "    \n",
    "for right-justifying, left-justifying, and centering a string we can use rjust(),ljust()and center() string methods respectively."
   ]
  },
  {
   "cell_type": "raw",
   "id": "6d389512",
   "metadata": {},
   "source": [
    "10. What is the best way to remove whitespace characters from the start or end?\n",
    "\n",
    "Answer:\n",
    "\n",
    "The lstrip() and rstrip() methods remove whitesapce characters from the left and right ends of a string respectively."
   ]
  },
  {
   "cell_type": "code",
   "execution_count": null,
   "id": "54ad2cc5",
   "metadata": {},
   "outputs": [],
   "source": []
  }
 ],
 "metadata": {
  "kernelspec": {
   "display_name": "Python 3 (ipykernel)",
   "language": "python",
   "name": "python3"
  },
  "language_info": {
   "codemirror_mode": {
    "name": "ipython",
    "version": 3
   },
   "file_extension": ".py",
   "mimetype": "text/x-python",
   "name": "python",
   "nbconvert_exporter": "python",
   "pygments_lexer": "ipython3",
   "version": "3.9.7"
  }
 },
 "nbformat": 4,
 "nbformat_minor": 5
}
